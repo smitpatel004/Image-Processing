{
 "cells": [
  {
   "cell_type": "code",
   "execution_count": 1,
   "id": "3df46db4-0bc8-45c5-9530-dc5625a5ab08",
   "metadata": {},
   "outputs": [],
   "source": [
    "import cv2"
   ]
  },
  {
   "cell_type": "code",
   "execution_count": 2,
   "id": "410a6756-6625-4ab3-b039-5bad3e5ce23b",
   "metadata": {},
   "outputs": [],
   "source": [
    "import numpy as np\n",
    "flag = False\n",
    "ix =-1\n",
    "iy=-1\n"
   ]
  },
  {
   "cell_type": "code",
   "execution_count": 3,
   "id": "c5de1d92-ae83-448b-aea8-1a87e2946272",
   "metadata": {},
   "outputs": [],
   "source": [
    "img = cv2.imread(\"638808.jpg\")\n",
    "def crop(event,x,y,flags,params):\n",
    "    global flag,ix,iy \n",
    "    if event ==1:\n",
    "        flage = True\n",
    "        ix=x\n",
    "        iy=y\n",
    "    # elif event == 0:\n",
    "    #     if flage == True:\n",
    "    #         cv2.rectangle(img,pt1=(ix,iy),pt2=(x,y),thickness=1,color=(0,0,0))\n",
    "         \n",
    "    elif event ==  4:\n",
    "        fx=x\n",
    "        fy=y\n",
    "        flage = False\n",
    "        cv2.rectangle(img,pt1=(ix,iy),pt2=(x,y),thickness=1,color=(0,0,0))\n",
    "        cropped = img[iy:fy,ix:fx]\n",
    "        cv2.imshow(\"new_window\",cropped)\n",
    "        cv2.waitKey(0)\n",
    "        \n",
    "        \n",
    "        \n",
    "    \n",
    "cv2.namedWindow(winname=\"window\")\n",
    "cv2.setMouseCallback(\"window\",crop)\n",
    "while True:\n",
    "    cv2.imshow(\"window\",img)\n",
    "    if cv2.waitKey(1) & 0xFF == ord('x'):\n",
    "        break\n",
    "cv2.destroyAllWindows()      \n",
    "        "
   ]
  },
  {
   "cell_type": "code",
   "execution_count": null,
   "id": "f002d84a-3aa6-4524-8b9a-d2231e608ab8",
   "metadata": {},
   "outputs": [],
   "source": []
  },
  {
   "cell_type": "code",
   "execution_count": null,
   "id": "4f6ef300-f5c2-405e-a5d3-d6fb880c3f7c",
   "metadata": {},
   "outputs": [],
   "source": []
  }
 ],
 "metadata": {
  "kernelspec": {
   "display_name": "Python 3 (ipykernel)",
   "language": "python",
   "name": "python3"
  },
  "language_info": {
   "codemirror_mode": {
    "name": "ipython",
    "version": 3
   },
   "file_extension": ".py",
   "mimetype": "text/x-python",
   "name": "python",
   "nbconvert_exporter": "python",
   "pygments_lexer": "ipython3",
   "version": "3.12.1"
  }
 },
 "nbformat": 4,
 "nbformat_minor": 5
}
